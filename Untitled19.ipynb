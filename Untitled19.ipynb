{
 "cells": [
  {
   "cell_type": "code",
   "execution_count": 1,
   "id": "083b91d9",
   "metadata": {},
   "outputs": [
    {
     "name": "stdout",
     "output_type": "stream",
     "text": [
      " Python Version \n",
      "3.8.8 (default, Apr 13 2021, 15:08:03) [MSC v.1916 64 bit (AMD64)]\n",
      " Python Info \n",
      "sys.version_info(major=3, minor=8, micro=8, releaselevel='final', serial=0)\n"
     ]
    }
   ],
   "source": [
    "import sys\n",
    "print(\" Python Version \");\n",
    "print( sys.version );\n",
    "print(\" Python Info \");\n",
    "print( sys.version_info );"
   ]
  },
  {
   "cell_type": "code",
   "execution_count": 3,
   "id": "44b8f170",
   "metadata": {},
   "outputs": [
    {
     "name": "stdout",
     "output_type": "stream",
     "text": [
      " Current Date & Time \n",
      " 28/10/21 \n",
      " 16:44:30 \n"
     ]
    }
   ],
   "source": [
    "import datetime\n",
    "now = datetime.datetime.now()\n",
    "print(\" Current Date & Time \");\n",
    "print(now.strftime(\" %d/%m/%y \\n %H:%M:%S \"));"
   ]
  },
  {
   "cell_type": "code",
   "execution_count": 6,
   "id": "2ae8d609",
   "metadata": {},
   "outputs": [
    {
     "name": "stdout",
     "output_type": "stream",
     "text": [
      " ENTER THE RADIUS OF A CIRCLE : 21\n",
      " THE AREA OF A CIRCLE IS  1384.74\n"
     ]
    }
   ],
   "source": [
    "Radius = float(input(\" ENTER THE RADIUS OF A CIRCLE :\"));\n",
    "Area = 3.14 * Radius ** 2;\n",
    "print(\" THE AREA OF A CIRCLE IS \", Area);"
   ]
  },
  {
   "cell_type": "code",
   "execution_count": 9,
   "id": "521dad4e",
   "metadata": {},
   "outputs": [
    {
     "name": "stdout",
     "output_type": "stream",
     "text": [
      " ENTER YOUR FIRST NAME :   Ali\n",
      " ENTER YOUR LAST NAME :   Kamran\n",
      "  Kamran   Ali\n"
     ]
    }
   ],
   "source": [
    "f_1st = input(\" ENTER YOUR FIRST NAME : \");\n",
    "L_st = input(\" ENTER YOUR LAST NAME : \");\n",
    "print(L_st + \" \" + f_1st);"
   ]
  },
  {
   "cell_type": "code",
   "execution_count": null,
   "id": "7b1bf059",
   "metadata": {},
   "outputs": [],
   "source": []
  }
 ],
 "metadata": {
  "kernelspec": {
   "display_name": "Python 3",
   "language": "python",
   "name": "python3"
  },
  "language_info": {
   "codemirror_mode": {
    "name": "ipython",
    "version": 3
   },
   "file_extension": ".py",
   "mimetype": "text/x-python",
   "name": "python",
   "nbconvert_exporter": "python",
   "pygments_lexer": "ipython3",
   "version": "3.8.8"
  }
 },
 "nbformat": 4,
 "nbformat_minor": 5
}
