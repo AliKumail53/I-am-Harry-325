{
 "cells": [
  {
   "cell_type": "code",
   "execution_count": 5,
   "id": "f0083568",
   "metadata": {},
   "outputs": [
    {
     "name": "stdout",
     "output_type": "stream",
     "text": [
      "odd\n"
     ]
    }
   ],
   "source": [
    "# WRITE A PYTHON PROGRAM TO PRINT WHETHER A GIVEN NUMBER IS EVEN OR ODD.\n",
    "\n",
    "x = 241;\n",
    "if x % 2 == 0:\n",
    "    print(\"Even\")\n",
    "else:\n",
    "    print(\"odd\");"
   ]
  },
  {
   "cell_type": "code",
   "execution_count": 12,
   "id": "b3a98282",
   "metadata": {},
   "outputs": [
    {
     "name": "stdout",
     "output_type": "stream",
     "text": [
      "The largest number is 6446\n"
     ]
    }
   ],
   "source": [
    "# Write a program which prints the largest number of the list.\n",
    "\n",
    "a = [5, 64, 6446, 75, 264, 66, 86];\n",
    "a.sort();\n",
    "print(\"The largest number is\", a[-1]);"
   ]
  },
  {
   "cell_type": "code",
   "execution_count": 15,
   "id": "faac7199",
   "metadata": {},
   "outputs": [
    {
     "name": "stdout",
     "output_type": "stream",
     "text": [
      "The largest number of the list is 654\n"
     ]
    }
   ],
   "source": [
    "dara = [43, 654, 646, 57, 42, 97, 3, 53, 64, 75 ];\n",
    "print(\"The largest number of the list is\", max(dara));"
   ]
  },
  {
   "cell_type": "code",
   "execution_count": 27,
   "id": "4907272a",
   "metadata": {},
   "outputs": [
    {
     "name": "stdout",
     "output_type": "stream",
     "text": [
      "The largest number is  63564\n"
     ]
    }
   ],
   "source": [
    "asc = [ 42, 453, 356, 4, 63564,757,434, 646, 4754 ];\n",
    "print(\"The largest number is \", max(asc));"
   ]
  },
  {
   "cell_type": "code",
   "execution_count": 28,
   "id": "49a60ca2",
   "metadata": {},
   "outputs": [
    {
     "name": "stdout",
     "output_type": "stream",
     "text": [
      "Largest Number : 31\n"
     ]
    }
   ],
   "source": [
    "hussain_tareen = [ 6, 29, 13, 3, 4, 1, 9, 13, 31, 15 ];\n",
    "hussain_tareen.sort();\n",
    "print(\"Largest Number :\", hussain_tareen[-1]);"
   ]
  },
  {
   "cell_type": "code",
   "execution_count": 32,
   "id": "19418e11",
   "metadata": {},
   "outputs": [
    {
     "name": "stdout",
     "output_type": "stream",
     "text": [
      "Marks obtained in English And Math subjects :\n",
      "Enter your Math number : 67\n",
      "Enter your English number :  86\n",
      "Got 76.5 %\n",
      "Grade B\n"
     ]
    }
   ],
   "source": [
    "print(\"Marks obtained in English And Math subjects :\");\n",
    "Math = int(input(\"Enter your Math number :\"));\n",
    "Eng = int(input(\"Enter your English number :\"));\n",
    "total = 200;\n",
    "s_u_m = Math + Eng;\n",
    "perc = s_u_m / total * 100;\n",
    "print(\"Got\",perc,\"%\");\n",
    "if perc < 100 and perc > 80:\n",
    "    print(\"Grade A+\");\n",
    "elif perc < 79.9 and perc > 70:\n",
    "    print(\"Grade B\");\n",
    "elif perc < 69.9 and perc > 60:\n",
    "    print(\"Grade C\");\n",
    "elif perc < 59.9 and perc > 50:\n",
    "    print(\"Grade D\");\n",
    "elif perc < 49.9 and perc > 40:\n",
    "    print(\"Grade E\");\n",
    "else:\n",
    "    print(\" Unfortunately Failed \\n Good Luck Next Time\");\n"
   ]
  },
  {
   "cell_type": "code",
   "execution_count": 35,
   "id": "1a92a125",
   "metadata": {},
   "outputs": [
    {
     "name": "stdout",
     "output_type": "stream",
     "text": [
      "Version of python :\n",
      "3.8.8 (default, Apr 13 2021, 15:08:03) [MSC v.1916 64 bit (AMD64)]\n",
      "Python Info \n",
      "sys.version_info(major=3, minor=8, micro=8, releaselevel='final', serial=0)\n"
     ]
    }
   ],
   "source": [
    "import sys\n",
    "print(\"Version of python :\");\n",
    "print( sys.version );\n",
    "print(\"Python Info \");\n",
    "print( sys.version_info );"
   ]
  },
  {
   "cell_type": "code",
   "execution_count": 39,
   "id": "36bd36e6",
   "metadata": {},
   "outputs": [
    {
     "name": "stdout",
     "output_type": "stream",
     "text": [
      " DATE : 04/11/21 \n",
      " TIME : 16:24:35 \n"
     ]
    }
   ],
   "source": [
    "import datetime\n",
    "x = datetime.datetime.now();\n",
    "print(x.strftime(\" DATE : %d/%m/%y \\n TIME : %H:%M:%S \"));"
   ]
  },
  {
   "cell_type": "code",
   "execution_count": 66,
   "id": "8eb82c75",
   "metadata": {},
   "outputs": [
    {
     "name": "stdout",
     "output_type": "stream",
     "text": [
      "cancel\n"
     ]
    }
   ],
   "source": [
    "x = 400;\n",
    "y = 350;\n",
    "if x <= 400 and y < 200:\n",
    "    print(\"okay\");\n",
    "else:\n",
    "    print(\"cancel\");\n"
   ]
  },
  {
   "cell_type": "code",
   "execution_count": 67,
   "id": "c61df5bf",
   "metadata": {},
   "outputs": [
    {
     "name": "stdout",
     "output_type": "stream",
     "text": [
      "24\n",
      "46\n",
      "5\n",
      "7\n"
     ]
    }
   ],
   "source": [
    "# write a python program which prints all the elements which are less than 50\n",
    "\n",
    "List_of_python = [24, 64, 57, 86, 75, 46, 97, 97, 67, 87, 5, 7, 546];\n",
    "for i in List_of_python:\n",
    "    if i < 50:\n",
    "        print(i);"
   ]
  },
  {
   "cell_type": "code",
   "execution_count": 70,
   "id": "12e44955",
   "metadata": {},
   "outputs": [
    {
     "name": "stdout",
     "output_type": "stream",
     "text": [
      "[24, 46, 5, 7, 35]\n"
     ]
    }
   ],
   "source": [
    "x = [ 24, 64, 57, 86, 75, 46, 97, 97, 67, 87, 5, 7, 546, 35];\n",
    "y = [];\n",
    "for i in x:\n",
    "    if i < 50:\n",
    "        y.append(i);\n",
    "print(y);\n",
    "        "
   ]
  },
  {
   "cell_type": "code",
   "execution_count": 71,
   "id": "d69ffe6d",
   "metadata": {},
   "outputs": [
    {
     "data": {
      "text/plain": [
       "[24, 46, 5, 7, 35]"
      ]
     },
     "execution_count": 71,
     "metadata": {},
     "output_type": "execute_result"
    }
   ],
   "source": [
    "y"
   ]
  },
  {
   "cell_type": "code",
   "execution_count": 74,
   "id": "29f01c23",
   "metadata": {},
   "outputs": [
    {
     "name": "stdout",
     "output_type": "stream",
     "text": [
      "[24, 46, 5, 7, 35, 42463]\n"
     ]
    }
   ],
   "source": [
    "y.append(42463);\n",
    "print(y);"
   ]
  },
  {
   "cell_type": "code",
   "execution_count": 75,
   "id": "e0292576",
   "metadata": {},
   "outputs": [
    {
     "name": "stdout",
     "output_type": "stream",
     "text": [
      "[24, 46, 5, 2356, 7, 35, 42463]\n"
     ]
    }
   ],
   "source": [
    "y.insert(3, 2356);\n",
    "print(y);"
   ]
  },
  {
   "cell_type": "code",
   "execution_count": 86,
   "id": "dfa77c80",
   "metadata": {},
   "outputs": [
    {
     "name": "stdout",
     "output_type": "stream",
     "text": [
      "[24, 46, 5]\n"
     ]
    }
   ],
   "source": [
    "del y [3:5];\n",
    "print(y);"
   ]
  },
  {
   "cell_type": "code",
   "execution_count": 88,
   "id": "b1dffde3",
   "metadata": {},
   "outputs": [
    {
     "data": {
      "text/plain": [
       "[24, 46, 5]"
      ]
     },
     "execution_count": 88,
     "metadata": {},
     "output_type": "execute_result"
    }
   ],
   "source": [
    "y"
   ]
  },
  {
   "cell_type": "code",
   "execution_count": 91,
   "id": "5b0d50b0",
   "metadata": {},
   "outputs": [
    {
     "name": "stdout",
     "output_type": "stream",
     "text": [
      "[468, 468, 647]\n"
     ]
    }
   ],
   "source": [
    "x = [24, 57, 468, 35, 468, 647];\n",
    "y = [];\n",
    "for i in x:\n",
    "    if i > 100:\n",
    "        y.append(i);\n",
    "print(y);"
   ]
  },
  {
   "cell_type": "code",
   "execution_count": 87,
   "id": "355a24eb",
   "metadata": {},
   "outputs": [
    {
     "name": "stdout",
     "output_type": "stream",
     "text": [
      "[46, 5]\n"
     ]
    }
   ],
   "source": [
    "x = y[1:3];\n",
    "print(x);"
   ]
  }
 ],
 "metadata": {
  "kernelspec": {
   "display_name": "Python 3",
   "language": "python",
   "name": "python3"
  },
  "language_info": {
   "codemirror_mode": {
    "name": "ipython",
    "version": 3
   },
   "file_extension": ".py",
   "mimetype": "text/x-python",
   "name": "python",
   "nbconvert_exporter": "python",
   "pygments_lexer": "ipython3",
   "version": "3.8.8"
  }
 },
 "nbformat": 4,
 "nbformat_minor": 5
}
